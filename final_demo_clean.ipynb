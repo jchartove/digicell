{
 "cells": [
  {
   "cell_type": "markdown",
   "metadata": {},
   "source": [
    "This notebook demonstrates how to predict IC50 from BindingDB data using the digital-cell model, as well as giving suggestions for how to enhance the performance of the model beyond that shown here."
   ]
  },
  {
   "cell_type": "code",
   "execution_count": 3,
   "metadata": {
    "ExecuteTime": {
     "end_time": "2020-10-12T17:19:33.591259Z",
     "start_time": "2020-10-12T17:19:33.560263Z"
    },
    "scrolled": true
   },
   "outputs": [],
   "source": [
    "import os\n",
    "os.chdir('./DeepPurpose/')\n",
    "\n",
    "from DeepPurpose import utils, dataset, CompoundPred\n",
    "from DeepPurpose import DTI as models\n",
    "import digitalcell\n",
    "import warnings\n",
    "warnings.filterwarnings(\"ignore\")"
   ]
  },
  {
   "cell_type": "markdown",
   "metadata": {},
   "source": [
    "# First pass: DeepPurpose model\n",
    "\n",
    "Only run this first cell if you haven't downloaded BindingDB yet! It's several gigabytes."
   ]
  },
  {
   "cell_type": "code",
   "execution_count": 4,
   "metadata": {
    "ExecuteTime": {
     "end_time": "2020-10-12T17:22:34.691863Z",
     "start_time": "2020-10-12T17:19:36.953993Z"
    }
   },
   "outputs": [
    {
     "name": "stdout",
     "output_type": "stream",
     "text": [
      "Beginning to download dataset...\n",
      "100% [......................................................................] 327218168 / 327218168Beginning to extract zip file...\n",
      "Done!\n"
     ]
    }
   ],
   "source": [
    "data_path = dataset.download_BindingDB('./data/')"
   ]
  },
  {
   "cell_type": "markdown",
   "metadata": {},
   "source": [
    "\n",
    "## Data Importing\n",
    "\n",
    "The entirety of BindingDB is saved as a .tsv file. The function `digital-cell.process_BindingDB_omic` loads it into a Pandas dataframe."
   ]
  },
  {
   "cell_type": "code",
   "execution_count": 5,
   "metadata": {
    "ExecuteTime": {
     "end_time": "2020-10-12T17:31:58.061982Z",
     "start_time": "2020-10-12T17:29:27.699312Z"
    },
    "scrolled": true
   },
   "outputs": [
    {
     "name": "stdout",
     "output_type": "stream",
     "text": [
      "Loading Dataset from path...\n"
     ]
    },
    {
     "name": "stderr",
     "output_type": "stream",
     "text": [
      "b'Skipping line 772572: expected 193 fields, saw 205\\nSkipping line 772598: expected 193 fields, saw 205\\n'\n",
      "b'Skipping line 805291: expected 193 fields, saw 205\\n'\n",
      "b'Skipping line 827961: expected 193 fields, saw 265\\n'\n",
      "b'Skipping line 1231688: expected 193 fields, saw 241\\n'\n",
      "b'Skipping line 1345591: expected 193 fields, saw 241\\nSkipping line 1345592: expected 193 fields, saw 241\\nSkipping line 1345593: expected 193 fields, saw 241\\nSkipping line 1345594: expected 193 fields, saw 241\\nSkipping line 1345595: expected 193 fields, saw 241\\nSkipping line 1345596: expected 193 fields, saw 241\\nSkipping line 1345597: expected 193 fields, saw 241\\nSkipping line 1345598: expected 193 fields, saw 241\\nSkipping line 1345599: expected 193 fields, saw 241\\n'\n",
      "b'Skipping line 1358864: expected 193 fields, saw 205\\n'\n",
      "b'Skipping line 1378087: expected 193 fields, saw 241\\nSkipping line 1378088: expected 193 fields, saw 241\\nSkipping line 1378089: expected 193 fields, saw 241\\nSkipping line 1378090: expected 193 fields, saw 241\\nSkipping line 1378091: expected 193 fields, saw 241\\nSkipping line 1378092: expected 193 fields, saw 241\\nSkipping line 1378093: expected 193 fields, saw 241\\nSkipping line 1378094: expected 193 fields, saw 241\\nSkipping line 1378095: expected 193 fields, saw 241\\n'\n",
      "b'Skipping line 1417264: expected 193 fields, saw 205\\n'\n"
     ]
    },
    {
     "name": "stdout",
     "output_type": "stream",
     "text": [
      "Beginning Processing...\n",
      "There are 93336 drug target pairs.\n"
     ]
    }
   ],
   "source": [
    "data_path = './data//BindingDB_All.tsv'\n",
    "df, X_drugs, X_targets, y = digitalcell.process_BindingDB_omic(path = data_path, temp_ph = True)"
   ]
  },
  {
   "cell_type": "markdown",
   "metadata": {},
   "source": [
    "The cell below just shows what the data looks like."
   ]
  },
  {
   "cell_type": "code",
   "execution_count": 3,
   "metadata": {
    "ExecuteTime": {
     "end_time": "2020-10-12T04:39:45.169315Z",
     "start_time": "2020-10-12T04:39:45.133304Z"
    }
   },
   "outputs": [
    {
     "data": {
      "text/html": [
       "<div>\n",
       "<style scoped>\n",
       "    .dataframe tbody tr th:only-of-type {\n",
       "        vertical-align: middle;\n",
       "    }\n",
       "\n",
       "    .dataframe tbody tr th {\n",
       "        vertical-align: top;\n",
       "    }\n",
       "\n",
       "    .dataframe thead th {\n",
       "        text-align: right;\n",
       "    }\n",
       "</style>\n",
       "<table border=\"1\" class=\"dataframe\">\n",
       "  <thead>\n",
       "    <tr style=\"text-align: right;\">\n",
       "      <th></th>\n",
       "      <th>ID</th>\n",
       "      <th>InChI</th>\n",
       "      <th>SMILES</th>\n",
       "      <th>PubChem_ID</th>\n",
       "      <th>UniProt_ID</th>\n",
       "      <th>Organism</th>\n",
       "      <th>Target Sequence</th>\n",
       "      <th>Kd</th>\n",
       "      <th>IC50</th>\n",
       "      <th>Ki</th>\n",
       "      <th>EC50</th>\n",
       "      <th>kon</th>\n",
       "      <th>koff</th>\n",
       "      <th>pH</th>\n",
       "      <th>Temp</th>\n",
       "      <th>pIC50</th>\n",
       "    </tr>\n",
       "  </thead>\n",
       "  <tbody>\n",
       "    <tr>\n",
       "      <th>180</th>\n",
       "      <td>181</td>\n",
       "      <td>InChI=1/C31H51N5O5/c1-20(2)28(32-22(5)37)30(40...</td>\n",
       "      <td>CC(C)[C@H](NC(C)=O)C(=O)N[C@@H](Cc1ccccc1)[C@@...</td>\n",
       "      <td>65023.0</td>\n",
       "      <td>NaN</td>\n",
       "      <td>Human immunodeficiency virus 1</td>\n",
       "      <td>PQITLWQRPLVTIKIGGQLKEALLDTGADDTVLEEMNLPGRWKPKM...</td>\n",
       "      <td>NaN</td>\n",
       "      <td>8.5</td>\n",
       "      <td>NaN</td>\n",
       "      <td>NaN</td>\n",
       "      <td>NaN</td>\n",
       "      <td>NaN</td>\n",
       "      <td>6.0</td>\n",
       "      <td>37.0</td>\n",
       "      <td>8.065502</td>\n",
       "    </tr>\n",
       "    <tr>\n",
       "      <th>181</th>\n",
       "      <td>182</td>\n",
       "      <td>InChI=1/C33H55N5O7/c1-7-44-32(42)35-28(22(3)4)...</td>\n",
       "      <td>CCOC(=O)N[C@@H](C(C)C)C(=O)N[C@@H](Cc1ccccc1)[...</td>\n",
       "      <td>461984.0</td>\n",
       "      <td>NaN</td>\n",
       "      <td>Human immunodeficiency virus 1</td>\n",
       "      <td>PQITLWQRPLVTIKIGGQLKEALLDTGADDTVLEEMNLPGRWKPKM...</td>\n",
       "      <td>NaN</td>\n",
       "      <td>177.0</td>\n",
       "      <td>NaN</td>\n",
       "      <td>NaN</td>\n",
       "      <td>NaN</td>\n",
       "      <td>NaN</td>\n",
       "      <td>6.0</td>\n",
       "      <td>37.0</td>\n",
       "      <td>6.751781</td>\n",
       "    </tr>\n",
       "    <tr>\n",
       "      <th>183</th>\n",
       "      <td>184</td>\n",
       "      <td>InChI=1/C35H59N5O9/c1-24(2)30(37-34(44)48-19-1...</td>\n",
       "      <td>COCCOC(=O)N[C@@H](C(C)C)C(=O)N[C@@H](Cc1ccccc1...</td>\n",
       "      <td>461988.0</td>\n",
       "      <td>NaN</td>\n",
       "      <td>Human immunodeficiency virus 1</td>\n",
       "      <td>PQITLWQRPLVTIKIGGQLKEALLDTGADDTVLEEMNLPGRWKPKM...</td>\n",
       "      <td>NaN</td>\n",
       "      <td>164.0</td>\n",
       "      <td>NaN</td>\n",
       "      <td>NaN</td>\n",
       "      <td>NaN</td>\n",
       "      <td>NaN</td>\n",
       "      <td>6.0</td>\n",
       "      <td>37.0</td>\n",
       "      <td>6.784891</td>\n",
       "    </tr>\n",
       "    <tr>\n",
       "      <th>184</th>\n",
       "      <td>185</td>\n",
       "      <td>InChI=1/C39H67N5O11/c1-28(2)34(41-38(48)54-23-...</td>\n",
       "      <td>COCCOCCOC(=O)N[C@@H](C(C)C)C(=O)N[C@@H](Cc1ccc...</td>\n",
       "      <td>461990.0</td>\n",
       "      <td>NaN</td>\n",
       "      <td>Human immunodeficiency virus 1</td>\n",
       "      <td>PQITLWQRPLVTIKIGGQLKEALLDTGADDTVLEEMNLPGRWKPKM...</td>\n",
       "      <td>NaN</td>\n",
       "      <td>67.0</td>\n",
       "      <td>NaN</td>\n",
       "      <td>NaN</td>\n",
       "      <td>NaN</td>\n",
       "      <td>NaN</td>\n",
       "      <td>6.0</td>\n",
       "      <td>37.0</td>\n",
       "      <td>7.173277</td>\n",
       "    </tr>\n",
       "    <tr>\n",
       "      <th>185</th>\n",
       "      <td>186</td>\n",
       "      <td>InChI=1/C38H51N7O7/c1-24(2)34(43-38(51)52-3)37...</td>\n",
       "      <td>COC(=O)N[C@@H](C(C)C)C(=O)NN(C[C@H](O)[C@H](Cc...</td>\n",
       "      <td>461985.0</td>\n",
       "      <td>NaN</td>\n",
       "      <td>Human immunodeficiency virus 1</td>\n",
       "      <td>PQITLWQRPLVTIKIGGQLKEALLDTGADDTVLEEMNLPGRWKPKM...</td>\n",
       "      <td>NaN</td>\n",
       "      <td>27.0</td>\n",
       "      <td>NaN</td>\n",
       "      <td>NaN</td>\n",
       "      <td>NaN</td>\n",
       "      <td>NaN</td>\n",
       "      <td>6.0</td>\n",
       "      <td>37.0</td>\n",
       "      <td>7.567031</td>\n",
       "    </tr>\n",
       "  </tbody>\n",
       "</table>\n",
       "</div>"
      ],
      "text/plain": [
       "      ID                                              InChI  \\\n",
       "180  181  InChI=1/C31H51N5O5/c1-20(2)28(32-22(5)37)30(40...   \n",
       "181  182  InChI=1/C33H55N5O7/c1-7-44-32(42)35-28(22(3)4)...   \n",
       "183  184  InChI=1/C35H59N5O9/c1-24(2)30(37-34(44)48-19-1...   \n",
       "184  185  InChI=1/C39H67N5O11/c1-28(2)34(41-38(48)54-23-...   \n",
       "185  186  InChI=1/C38H51N7O7/c1-24(2)34(43-38(51)52-3)37...   \n",
       "\n",
       "                                                SMILES  PubChem_ID UniProt_ID  \\\n",
       "180  CC(C)[C@H](NC(C)=O)C(=O)N[C@@H](Cc1ccccc1)[C@@...     65023.0        NaN   \n",
       "181  CCOC(=O)N[C@@H](C(C)C)C(=O)N[C@@H](Cc1ccccc1)[...    461984.0        NaN   \n",
       "183  COCCOC(=O)N[C@@H](C(C)C)C(=O)N[C@@H](Cc1ccccc1...    461988.0        NaN   \n",
       "184  COCCOCCOC(=O)N[C@@H](C(C)C)C(=O)N[C@@H](Cc1ccc...    461990.0        NaN   \n",
       "185  COC(=O)N[C@@H](C(C)C)C(=O)NN(C[C@H](O)[C@H](Cc...    461985.0        NaN   \n",
       "\n",
       "                           Organism  \\\n",
       "180  Human immunodeficiency virus 1   \n",
       "181  Human immunodeficiency virus 1   \n",
       "183  Human immunodeficiency virus 1   \n",
       "184  Human immunodeficiency virus 1   \n",
       "185  Human immunodeficiency virus 1   \n",
       "\n",
       "                                       Target Sequence   Kd   IC50   Ki EC50  \\\n",
       "180  PQITLWQRPLVTIKIGGQLKEALLDTGADDTVLEEMNLPGRWKPKM...  NaN    8.5  NaN  NaN   \n",
       "181  PQITLWQRPLVTIKIGGQLKEALLDTGADDTVLEEMNLPGRWKPKM...  NaN  177.0  NaN  NaN   \n",
       "183  PQITLWQRPLVTIKIGGQLKEALLDTGADDTVLEEMNLPGRWKPKM...  NaN  164.0  NaN  NaN   \n",
       "184  PQITLWQRPLVTIKIGGQLKEALLDTGADDTVLEEMNLPGRWKPKM...  NaN   67.0  NaN  NaN   \n",
       "185  PQITLWQRPLVTIKIGGQLKEALLDTGADDTVLEEMNLPGRWKPKM...  NaN   27.0  NaN  NaN   \n",
       "\n",
       "     kon koff   pH  Temp     pIC50  \n",
       "180  NaN  NaN  6.0  37.0  8.065502  \n",
       "181  NaN  NaN  6.0  37.0  6.751781  \n",
       "183  NaN  NaN  6.0  37.0  6.784891  \n",
       "184  NaN  NaN  6.0  37.0  7.173277  \n",
       "185  NaN  NaN  6.0  37.0  7.567031  "
      ]
     },
     "execution_count": 3,
     "metadata": {},
     "output_type": "execute_result"
    }
   ],
   "source": [
    "df.head()"
   ]
  },
  {
   "cell_type": "markdown",
   "metadata": {},
   "source": [
    "## Drug and target encoding\n",
    "\n",
    "DeepPurpose supports several possible encodings for drugs and targets. Right now I'm using the Morgan Extended-Connectivity Fingerprints encoding for drugs and the conjoint triad features encoding for targets because they're not computationally intensive."
   ]
  },
  {
   "cell_type": "code",
   "execution_count": 4,
   "metadata": {
    "ExecuteTime": {
     "end_time": "2020-10-12T01:22:53.085432Z",
     "start_time": "2020-10-12T01:22:53.069296Z"
    }
   },
   "outputs": [],
   "source": [
    "drug_encoding, target_encoding = 'Morgan', 'Conjoint_triad'"
   ]
  },
  {
   "cell_type": "markdown",
   "metadata": {},
   "source": [
    "The following cell splits the data into training and testing sets. I think these numbers are probably fine, but maybe there's a way to improve on them. One thing to note is that for some reason RDKit (the biochemistry library) has trouble translating some of the SMILES data (~500 drugs) into Morgan format. That's only a small fraction of the drugs in the training data, though."
   ]
  },
  {
   "cell_type": "code",
   "execution_count": 5,
   "metadata": {
    "ExecuteTime": {
     "end_time": "2020-10-12T01:23:42.059261Z",
     "start_time": "2020-10-12T01:22:56.489236Z"
    }
   },
   "outputs": [
    {
     "name": "stdout",
     "output_type": "stream",
     "text": [
      "Drug Target Interaction Prediction Mode...\n",
      "in total: 93336 drug-target pairs\n",
      "encoding drug...\n",
      "unique drugs: 63535\n",
      "rdkit not found this smiles for morgan: CSc1ccc(cc1)C1=C(C=C[N]([O-])=C1)[C@@H]1CCC(F)(F)C[C@H]1C(=O)NCC#N convert to all 0 features\n",
      "rdkit not found this smiles for morgan: O=C1NC(=O)c2c1c1c3ccccc3n3[Ru](C#[O])[n+]4cccc2c4c13 convert to all 0 features\n",
      "rdkit not found this smiles for morgan: CN1C(=O)c2c(C1=O)c1cc(F)c[n+]3[Ru](C#[O])n4c5ccc(O)cc5c2c4c13 convert to all 0 features\n",
      "rdkit not found this smiles for morgan: NOOSc1ccc(CC[N]23CC4=CC=CC=[N]4[Re+]2[N]2=C(C3)C=CC=C2)cc1 convert to all 0 features\n",
      "rdkit not found this smiles for morgan: NOOSc1ccc(CC[N@@]23CC(=O)O[Re]2[N]2=C(C3)C=CC=C2)cc1 convert to all 0 features\n",
      "rdkit not found this smiles for morgan: CN1C=C[N]2=C1C[N]1(CCc3ccc(SOON)cc3)CC3=[N](C=CN3C)[Re+]21 convert to all 0 features\n",
      "rdkit not found this smiles for morgan: NOOSc1ccc(NC(=S)NCCCCCCCC[N]23CC4=CC=CC=[N]4[Re+]2[N]2=C(C3)C=CC=C2)cc1 convert to all 0 features\n",
      "rdkit not found this smiles for morgan: NOOSc1ccc(NC(=S)NCCOCCOCC[N]23CC4=CC=CC=[N]4[Re+]2[N]2=C(C3)C=CC=C2)cc1 convert to all 0 features\n",
      "rdkit not found this smiles for morgan: NOOSc1ccc(NC(=S)NCCCCC[N]23CC4=CC=CC=[N]4[Re+]2[N]2=C(C3)C=CC=C2)cc1 convert to all 0 features\n",
      "rdkit not found this smiles for morgan: NOOSc1ccc(NC(=S)NCCCCCCCC[N@@]23CC(=O)O[Re]2[N]2=C(C3)C=CC=C2)cc1 convert to all 0 features\n",
      "rdkit not found this smiles for morgan: CN1C=C[N]2=C1C[N]1(CCCCCCCCCCNC(=S)Nc3ccc(SOON)cc3)CC3=[N](C=CN3C)[Re+]21 convert to all 0 features\n",
      "rdkit not found this smiles for morgan: Cn1c(Nc2c(Cl)ccc(CNC(=O)C3=CC=CC=[N]3O)c2Cl)nc2cc(C(=O)NCCC(F)(F)F)c(cc12)N1CCC(CC1)C(F)(F)F convert to all 0 features\n",
      "rdkit not found this smiles for morgan: CC[N]1(CC)CCN(CCOc2ccc3[nH]c(=O)c4CCCNc4c3c2)CC1 convert to all 0 features\n",
      "rdkit not found this smiles for morgan: COc1cc(C[N](C)(C)C2CCCC2)cc2[nH]c(=O)c3CCCNc3c12 convert to all 0 features\n",
      "rdkit not found this smiles for morgan: CC1=C2C(N(C(=O)C2=[N](N1)C1CC1)c1cc(C)c(=O)n(C)c1)c1ccc(Cl)cc1 convert to all 0 features\n",
      "rdkit not found this smiles for morgan: CC1=N[N](C)=C(C)C1N[S+]([O-])(=O)c1c(Cl)cc(cc1Cl)-c1cccc2CNCCc12 convert to all 0 features\n",
      "rdkit not found this smiles for morgan: CNC(=O)C1=CC(CCCN2CCOCC2)[N](=C1C)c1ccccc1 convert to all 0 features\n",
      "rdkit not found this smiles for morgan: O=C(N1N=C(CC1c1ccccc1)c1cnc2ccccc12)c1ccccc1 convert to all 0 features\n",
      "rdkit not found this smiles for morgan: CCOC(=O)CCc1c(CC(=O)OCC)cnc1\\C=N\\O convert to all 0 features\n",
      "rdkit not found this smiles for morgan: O=C(N1CCN(CC1)c1ccc(cc1)C#N)n1sc2[nH]cccc2c1=O convert to all 0 features\n",
      "rdkit not found this smiles for morgan: CC(=O)N1CCN(CC1)C(=O)n1sc2[nH]cccc2c1=O convert to all 0 features\n",
      "rdkit not found this smiles for morgan: O=C(C1CC1)N1CCN(CC1)C(=O)n1sc2[nH]cccc2c1=O convert to all 0 features\n",
      "rdkit not found this smiles for morgan: COc1ccc(cc1OC)C(=O)N1CCN(CC1)C(=O)n1sc2[nH]cccc2c1=O convert to all 0 features\n",
      "rdkit not found this smiles for morgan: CC(C)(O)c1nc(ncc1F)N1C[C@H]2CSC(N)=[N]([C@H]2C1)c1cnccn1 convert to all 0 features\n",
      "rdkit not found this smiles for morgan: CC(C)NC(=O)[C@@H]1C[C@H]2C[C@H]2N1C(=O)C[N]1#[N]=C(C(C)=O)c2cc(OCc3ncccn3)ccc12 convert to all 0 features\n",
      "rdkit not found this smiles for morgan: CC(C)Cc1ccc2nnc(-c3cc(ncn3)N3CCOCC3)c2c1 convert to all 0 features\n",
      "rdkit not found this smiles for morgan: C1CN(CCO1)c1cc(ncn1)-c1nnc2ccccc12 convert to all 0 features\n",
      "rdkit not found this smiles for morgan: CC(C)(c1nc(nc2N3CCOC[C@H]3COc12)[N]1=C(N)Nc2ccccc12)S(C)(=O)=O convert to all 0 features\n",
      "rdkit not found this smiles for morgan: CC(C)(c1nc(nc2N3CCOC[C@H]3COc12)[N]1=C(Nc2ccccc12)N1CCOCC1)S(C)(=O)=O convert to all 0 features\n",
      "rdkit not found this smiles for morgan: Cn1nccc1[C@H]1CCCCC[C@@H]1Oc1cc(F)c(c(F)c1)S(=O)(=O)Nc1cc[nH]cn1 convert to all 0 features\n",
      "rdkit not found this smiles for morgan: Clc1ccc(CNc2cc(nn2)-c2cccn(Cc3ccccc3Cl)c2=O)s1 convert to all 0 features\n",
      "rdkit not found this smiles for morgan: Clc1ccc(CNc2cc(nn2)-c2cccn(Cc3cccc(Cl)c3)c2=O)s1 convert to all 0 features\n",
      "rdkit not found this smiles for morgan: Clc1ccc(CNc2cc(nn2)-c2cccn(Cc3ccc(Cl)cc3)c2=O)s1 convert to all 0 features\n",
      "rdkit not found this smiles for morgan: Clc1ccc(CNc2cc(nn2)-c2cccn(Cc3ccc(Cl)s3)c2=O)s1 convert to all 0 features\n",
      "rdkit not found this smiles for morgan: Clc1ccc(CNc2cc(nn2)-c2cccn(Cc3ccccc3)c2=O)s1 convert to all 0 features\n",
      "rdkit not found this smiles for morgan: OC(=O)n1cccc(-c2cc(NCc3ccc(Cl)s3)nn2)c1=O convert to all 0 features\n",
      "rdkit not found this smiles for morgan: Clc1ccc(CNc2cc(nn2)-c2cccn(CC#N)c2=O)s1 convert to all 0 features\n",
      "rdkit not found this smiles for morgan: Clc1ccc(CNc2cc(nn2C(=O)c2ccccc2)-c2cccnc2=O)s1 convert to all 0 features\n",
      "rdkit not found this smiles for morgan: CC(C)(C)C(=O)n1nc(cc1NCc1ccc(Cl)s1)-c1cccnc1=O convert to all 0 features\n",
      "rdkit not found this smiles for morgan: COCC(C)(C)C(=O)n1nc(cc1NCc1ccc(Cl)s1)-c1cccnc1=O convert to all 0 features\n",
      "rdkit not found this smiles for morgan: Clc1ccc(CNc2cc(nn2C(=O)c2cccc3OCCOc23)-c2cccnc2=O)s1 convert to all 0 features\n",
      "rdkit not found this smiles for morgan: COc1ccc(C(=O)n2nc(cc2NCc2ccc(Cl)s2)-c2cccnc2=O)c(OC)c1 convert to all 0 features\n",
      "rdkit not found this smiles for morgan: COc1ccccc1C(=O)n1nc(cc1NCc1ccc(Cl)s1)-c1cccnc1=O convert to all 0 features\n",
      "rdkit not found this smiles for morgan: Clc1ccc(CNc2cc(nn2C(=O)c2ccsc2)-c2cccnc2=O)s1 convert to all 0 features\n",
      "rdkit not found this smiles for morgan: Clc1ccc(CNc2cc(nn2C(=O)c2ccccc2N2CCOCC2)-c2cccnc2=O)s1 convert to all 0 features\n",
      "rdkit not found this smiles for morgan: COCCOc1ccccc1C(=O)n1nc(cc1NCc1ccc(Cl)s1)-c1cccnc1=O convert to all 0 features\n",
      "rdkit not found this smiles for morgan: Clc1ccc(CNc2cc(nn2C(=O)c2ccc(cc2)N2CCOCC2)-c2cccnc2=O)s1 convert to all 0 features\n",
      "rdkit not found this smiles for morgan: Clc1ccc(CNc2cc(nn2)-c2cccn(Cc3nnn[nH]3)c2=O)s1 convert to all 0 features\n",
      "rdkit not found this smiles for morgan: COCCn1cccc(-c2cc(NCc3ccc(Cl)s3)nn2)c1=O convert to all 0 features\n",
      "rdkit not found this smiles for morgan: Clc1ccc(CNc2cc(nn2)-c2cccn(CCc3ccccc3)c2=O)s1 convert to all 0 features\n",
      "rdkit not found this smiles for morgan: Clc1ccc(CNc2cc(nn2)-c2cccn(Cc3ccco3)c2=O)s1 convert to all 0 features\n",
      "rdkit not found this smiles for morgan: Clc1ccc(CNc2cc(nn2)-c2cccn(Cc3ccoc3)c2=O)s1 convert to all 0 features\n",
      "rdkit not found this smiles for morgan: Clc1ccc(CNc2cc(nn2)-c2cccn(Cc3cccc4ccccc34)c2=O)s1 convert to all 0 features\n",
      "rdkit not found this smiles for morgan: Clc1ccc(CNc2cc(nn2)-c2cccn(Cc3ccc4ccccc4c3)c2=O)s1 convert to all 0 features\n",
      "rdkit not found this smiles for morgan: Clc1ccc(CNc2cc(nn2)-c2cccn(Cc3cccnn3)c2=O)s1 convert to all 0 features\n",
      "rdkit not found this smiles for morgan: Clc1ccc(CNc2cc(nn2)-c2cccn(Cc3ccccn3)c2=O)s1 convert to all 0 features\n",
      "rdkit not found this smiles for morgan: Clc1ccc(CNc2cc(nn2)-c2cccn(Cc3cccnc3)c2=O)s1 convert to all 0 features\n",
      "rdkit not found this smiles for morgan: Clc1ccc(CNc2cc(nn2)-c2cccn(Cc3ccncc3)c2=O)s1 convert to all 0 features\n",
      "rdkit not found this smiles for morgan: Clc1ccc(CNc2cc(nn2)-c2cccn(Cc3ncccn3)c2=O)s1 convert to all 0 features\n",
      "rdkit not found this smiles for morgan: Clc1ccc(CNc2cc(nn2)-c2cccn(Cc3cccs3)c2=O)s1 convert to all 0 features\n",
      "rdkit not found this smiles for morgan: Clc1ccc(CNc2cc(nn2)-c2cccn(Cc3ccsc3)c2=O)s1 convert to all 0 features\n",
      "rdkit not found this smiles for morgan: Clc1ccc(CNc2cc(nn2)-c2cccn(CC(=O)N3CCOCC3)c2=O)s1 convert to all 0 features\n",
      "rdkit not found this smiles for morgan: Clc1ccc(CNc2cc(nn2)-c2cccn(CCN3CCOCC3)c2=O)s1 convert to all 0 features\n",
      "rdkit not found this smiles for morgan: Clc1ccc(CNc2cc(nn2)-c2cccn(CCc3ccccn3)c2=O)s1 convert to all 0 features\n",
      "rdkit not found this smiles for morgan: Cn1cccc(-c2cc(NCc3ccc(Cl)s3)nn2)c1=O convert to all 0 features\n",
      "rdkit not found this smiles for morgan: O=C(c1ccco1)n1nc(cc1NCc1ccccc1)-c1cccnc1=O convert to all 0 features\n",
      "rdkit not found this smiles for morgan: CN(C)c1cc(nn1C(=O)c1ccco1)-c1cccnc1=O convert to all 0 features\n",
      "rdkit not found this smiles for morgan: Nc1ccccc1C(=O)n1nc(cc1NCc1ccc(Cl)s1)-c1cccnc1=O convert to all 0 features\n",
      "rdkit not found this smiles for morgan: CC(C)(C)c1ccc(cc1)C(=O)n1nc(cc1NCc1ccc(Cl)s1)-c1cccnc1=O convert to all 0 features\n",
      "rdkit not found this smiles for morgan: Nc1cc(nn1C(=O)c1ccco1)-c1cccnc1=O convert to all 0 features\n",
      "rdkit not found this smiles for morgan: CCOC(=O)Cn1cccc(-c2cc(NCc3ccc(Cl)s3)nn2)c1=O convert to all 0 features\n",
      "rdkit not found this smiles for morgan: CC(C)(C)OC(=O)Cn1cccc(-c2cc(NCc3ccc(Cl)s3)nn2)c1=O convert to all 0 features\n"
     ]
    },
    {
     "name": "stdout",
     "output_type": "stream",
     "text": [
      "rdkit not found this smiles for morgan: Clc1cccc(Cl)c1NC(=O)N1CCN(CC1)c1ccc(cc1)-c1[nH]cnn1CCc1ccccc1 convert to all 0 features\n",
      "rdkit not found this smiles for morgan: Clc1cccc(Cl)c1NC(=O)N1CCN(CC1)c1ccc(cc1)-c1ncnn1 convert to all 0 features\n",
      "rdkit not found this smiles for morgan: Cc1ccc(cc1)-c1nc([nH]o1)-c1ccc(cc1)N1CCN(CC1)C(=O)Nc1ccccc1Cl convert to all 0 features\n",
      "rdkit not found this smiles for morgan: Cn1cc(ccc1C(N)=O)S(=O)(=O)c1ccc(CN\\C(Nc2ccncc2)=N/C#N)cc1 convert to all 0 features\n",
      "rdkit not found this smiles for morgan: Cc1cc(nn1)-c1cc(C(=O)Nc2ccc(F)cn2)c2ncnn2c1 convert to all 0 features\n",
      "rdkit not found this smiles for morgan: C[N]1=C(OC(=C1)c1cccc(Nc2nccc(n2)-c2cccnc2)c1)N1CCNC(=O)C11CC1 convert to all 0 features\n",
      "rdkit not found this smiles for morgan: Cc1ccnc(Nc2cccc(C3=C[N](C)=C(O3)N3CCNC(=O)C33CC3)c2C)n1 convert to all 0 features\n",
      "rdkit not found this smiles for morgan: CN1C=[N](C)C=C1c1ccc(C[C@H](NC(=O)[C@H]2N[C@@H]3CC[C@H]2C3)C#N)c(F)c1 convert to all 0 features\n",
      "rdkit not found this smiles for morgan: Oc1cnc(Cn2cnc(c(Oc3cc(Cl)cc(c3)C#N)c2=O)C(F)(F)F)c[nH]1 convert to all 0 features\n",
      "encoding protein...\n",
      "unique target sequence: 1113\n",
      "splitting dataset...\n",
      "Done.\n"
     ]
    }
   ],
   "source": [
    "train, val, test = utils.data_process(X_drugs, X_targets, y, \n",
    "                                drug_encoding, target_encoding, \n",
    "                                split_method='random',frac=[0.7,0.1,0.2])"
   ]
  },
  {
   "cell_type": "markdown",
   "metadata": {},
   "source": [
    "## Model configuration\n",
    "\n",
    "DeepPurpose's model configuration utility is a wrapper for generating neural networks using PyTorch. The list of options for hyperparameters is [here](https://github.com/kexinhuang12345/DeepPurpose/blob/e169e2f550694145077bb2af95a4031abe400a77/DeepPurpose/utils.py#L486). Several types of model architecture are supported including CNNs, RNNs, MPNNs, MLPs, and transformers. I think there is a lot of potential work to be done on hyperparameter optimization here. The hyperparameters used below are suggested defaults that aren't too computationally intensive; they produce a 3 layer MPNN. "
   ]
  },
  {
   "cell_type": "code",
   "execution_count": 6,
   "metadata": {
    "ExecuteTime": {
     "end_time": "2020-10-12T01:24:00.216031Z",
     "start_time": "2020-10-12T01:24:00.210030Z"
    }
   },
   "outputs": [],
   "source": [
    "config = utils.generate_config(drug_encoding = drug_encoding, \n",
    "                               target_encoding = target_encoding,\n",
    "                         cls_hidden_dims = [1024,1024,512], \n",
    "                         train_epoch = 3, \n",
    "                         LR = 0.001, \n",
    "                         batch_size = 128,\n",
    "                         hidden_dim_drug = 128,\n",
    "                         mpnn_hidden_size = 128,\n",
    "                         mpnn_depth = 3\n",
    "                        )"
   ]
  },
  {
   "cell_type": "code",
   "execution_count": 7,
   "metadata": {
    "ExecuteTime": {
     "end_time": "2020-10-12T01:24:05.774198Z",
     "start_time": "2020-10-12T01:24:05.681221Z"
    }
   },
   "outputs": [],
   "source": [
    "model = models.model_initialize(**config)"
   ]
  },
  {
   "cell_type": "markdown",
   "metadata": {},
   "source": [
    "## Model training and loading\n",
    "\n",
    "Using the hyperparameters above, the model takes about 20 minutes on a GPU (1.5 hours on a laptop CPU) to train on BindingDB. For demo purposes I'm going to just load a model I trained earlier today, but I used the exact same code as above."
   ]
  },
  {
   "cell_type": "code",
   "execution_count": null,
   "metadata": {
    "ExecuteTime": {
     "end_time": "2020-10-12T01:24:48.982496Z",
     "start_time": "2020-10-12T01:24:14.055918Z"
    }
   },
   "outputs": [],
   "source": [
    "#run this if you want to train a new one\n",
    "model.train(train, val, test, verbose = True)\n",
    "model.save_model('../../model-10-11')"
   ]
  },
  {
   "cell_type": "code",
   "execution_count": 8,
   "metadata": {
    "ExecuteTime": {
     "end_time": "2020-10-12T17:35:07.932040Z",
     "start_time": "2020-10-12T17:35:07.916054Z"
    }
   },
   "outputs": [
    {
     "data": {
      "text/plain": [
       "'C:\\\\Users\\\\Julia\\\\Dropbox\\\\Work\\\\insight\\\\omic\\\\digicell\\\\DeepPurpose\\\\DeepPurpose'"
      ]
     },
     "execution_count": 8,
     "metadata": {},
     "output_type": "execute_result"
    }
   ],
   "source": [
    "pwd"
   ]
  },
  {
   "cell_type": "code",
   "execution_count": 10,
   "metadata": {
    "ExecuteTime": {
     "end_time": "2020-10-12T17:35:43.241522Z",
     "start_time": "2020-10-12T17:35:43.063305Z"
    }
   },
   "outputs": [],
   "source": [
    "#run this if you want to use my trained one\n",
    "model = models.model_pretrained(path_dir = '../../model-9-24')"
   ]
  },
  {
   "cell_type": "markdown",
   "metadata": {},
   "source": [
    "## Model validation\n",
    "\n",
    "The following code is built in to the DeepPurpose `train` method, I've just pulled it out so I can grab the dataset that was set aside for validation during the data processing step. "
   ]
  },
  {
   "cell_type": "code",
   "execution_count": 13,
   "metadata": {
    "ExecuteTime": {
     "end_time": "2020-09-29T18:03:26.429775Z",
     "start_time": "2020-09-29T18:03:26.408776Z"
    }
   },
   "outputs": [],
   "source": [
    "import torch\n",
    "from torch.utils import data\n",
    "\n",
    "params = {'batch_size': config['batch_size'],\n",
    "    'shuffle': True,\n",
    "    'num_workers': config['num_workers'],\n",
    "    'drop_last': False}\n",
    "\n",
    "validation_generator = data.DataLoader(utils.data_process_loader(val.index.values, val.Label.values, val, **config), **params)"
   ]
  },
  {
   "cell_type": "markdown",
   "metadata": {},
   "source": [
    "The available performance metrics are mean squared error, Pearson's R, p-value of Pearson's R, and concordance index."
   ]
  },
  {
   "cell_type": "code",
   "execution_count": 14,
   "metadata": {
    "ExecuteTime": {
     "end_time": "2020-09-29T18:04:17.515059Z",
     "start_time": "2020-09-29T18:03:30.238061Z"
    }
   },
   "outputs": [
    {
     "name": "stdout",
     "output_type": "stream",
     "text": [
      "0.8197822689413422\n"
     ]
    }
   ],
   "source": [
    "model.binary = False\n",
    "mse, pearsonr, pvalue, concordance_index = models.DBTA.test_(model, validation_generator, model.model, test=True)\n",
    "print(auc)"
   ]
  },
  {
   "cell_type": "markdown",
   "metadata": {},
   "source": [
    "## Model usage\n",
    "\n",
    "To predict IC50, run data_process to create a dataset consisting of a single drug-target pair, and then run `predict`, which is just a wrapper on `test_`. The output is in pIC50. "
   ]
  },
  {
   "cell_type": "code",
   "execution_count": 28,
   "metadata": {},
   "outputs": [
    {
     "name": "stdout",
     "output_type": "stream",
     "text": [
      "Drug Target Interaction Prediction Mode...\n",
      "in total: 1 drug-target pairs\n",
      "encoding drug...\n",
      "unique drugs: 1\n",
      "encoding protein...\n",
      "unique target sequence: 1\n",
      "splitting dataset...\n",
      "do not do train/test split on the data for already splitted data\n",
      "predicting...\n",
      "The predicted score is [7.395412921905518]\n"
     ]
    }
   ],
   "source": [
    "X_drug = ['CC1=C2C=C(C=CC2=NN1)C3=CC(=CN=C3)OCC(CC4=CC=CC=C4)N']\n",
    "X_target = ['MKKFFDSRREQGGSGLGSGSSGGGGSTSGLGSGYIGRVFGIGRQQVTVDEVLAEGGFAIVFLVRTSNGMKCALKRMFVNNEHDLQVCKREIQIMRDLSGHKNIVGYIDSSINNVSSGDVWEVLILMDFCRGGQVVNLMNQRLQTGFTENEVLQIFCDTCEAVARLHQCKTPIIHRDLKVENILLHDRGHYVLCDFGSATNKFQNPQTEGVNAVEDEIKKYTTLSYRAPEMVNLYSGKIITTKADIWALGCLLYKLCYFTLPFGESQVAICDGNFTIPDNSRYSQDMHCLIRYMLEPDPDKRPDIYQVSYFSFKLLKKECPIPNVQNSPIPAKLPEPVKASEAAAKKTQPKARLTDPIPTTETSIAPRQRPKAGQTQPNPGILPIQPALTPRKRATVQPPPQAAGSSNQPGLLASVPQPKPQAPPSQPLPQTQAKQPQAPPTPQQTPSTQAQGLPAQAQATPQHQQQLFLKQQQQQQQPPPAQQQPAGTFYQQQQAQTQQFQAVHPATQKPAIAQFPVVSQGGSQQQLMQNFYQQQQQQQQQQQQQQLATALHQQQLMTQQAALQQKPTMAAGQQPQPQPAAAPQPAPAQEPAIQAPVRQQPKVQTTPPPAVQGQKVGSLTPPSSPKTQRAGHRRILSDVTHSAVFGVPASKSTQLLQAAAAEASLNKSKSATTTPSGSPRTSQQNVYNPSEGSTWNPFDDDNFSKLTAEELLNKDFAKLGEGKHPEKLGGSAESLIPGFQSTQGDAFATTSFSAGTAEKRKGGQTVDSGLPLLSVSDPFIPLQVPDAPEKLIEGLKSPDTSLLLPDLLPMTDPFGSTSDAVIEKADVAVESLIPGLEPPVPQRLPSQTESVTSNRTDSLTGEDSLLDCSLLSNPTTDLLEEFAPTAISAPVHKAAEDSNLISGFDVPEGSDKVAEDEFDPIPVLITKNPQGGHSRNSSGSSESSLPNLARSLLLVDQLIDL']\n",
    "X_pred = utils.data_process(X_drug, X_target, y, \n",
    "                                drug_encoding, target_encoding, \n",
    "                                split_method='no_split')\n",
    "y_pred = model.predict(X_pred)\n",
    "print('The predicted score is ' + str(y_pred))"
   ]
  },
  {
   "cell_type": "markdown",
   "metadata": {},
   "source": [
    "# Second pass: Gradient Boosting with additional information\n",
    "\n",
    "My main innovation here has been to improve upon DeepPurpose by incorporating additional information such as temperature, pH, and model organism in a gradient boosting model that adjusts the first model's predictions.\n",
    "\n",
    "\n",
    "## Data importing\n",
    "\n",
    "There are a number of supported encodings; calling `digitalcell.feature_select` without specifying runs ones that have low overhead and perform well in the classifier.\n",
    "\n",
    "TODO: import support for other datasets (incl conversion to SMILES), list of supported encodings"
   ]
  },
  {
   "cell_type": "code",
   "execution_count": 11,
   "metadata": {
    "ExecuteTime": {
     "end_time": "2020-10-12T17:39:51.907358Z",
     "start_time": "2020-10-12T17:36:02.858577Z"
    }
   },
   "outputs": [
    {
     "name": "stdout",
     "output_type": "stream",
     "text": [
      "Encoding:  drug2emb_encoder\n",
      "Elapsed time:  30.523146629333496\n",
      "Encoding:  smiles2daylight\n",
      "rdkit not found this smiles: CSc1ccc(cc1)C1=C(C=C[N]([O-])=C1)[C@@H]1CCC(F)(F)C[C@H]1C(=O)NCC#N convert to all 0 features\n",
      "rdkit not found this smiles: O=C1NC(=O)c2c1c1c3ccccc3n3[Ru](C#[O])[n+]4cccc2c4c13 convert to all 0 features\n",
      "rdkit not found this smiles: CN1C(=O)c2c(C1=O)c1cc(F)c[n+]3[Ru](C#[O])n4c5ccc(O)cc5c2c4c13 convert to all 0 features\n",
      "rdkit not found this smiles: NOOSc1ccc(CC[N]23CC4=CC=CC=[N]4[Re+]2[N]2=C(C3)C=CC=C2)cc1 convert to all 0 features\n",
      "rdkit not found this smiles: NOOSc1ccc(CC[N@@]23CC(=O)O[Re]2[N]2=C(C3)C=CC=C2)cc1 convert to all 0 features\n",
      "rdkit not found this smiles: CN1C=C[N]2=C1C[N]1(CCc3ccc(SOON)cc3)CC3=[N](C=CN3C)[Re+]21 convert to all 0 features\n",
      "rdkit not found this smiles: NOOSc1ccc(NC(=S)NCCCCCCCC[N]23CC4=CC=CC=[N]4[Re+]2[N]2=C(C3)C=CC=C2)cc1 convert to all 0 features\n",
      "rdkit not found this smiles: NOOSc1ccc(NC(=S)NCCOCCOCC[N]23CC4=CC=CC=[N]4[Re+]2[N]2=C(C3)C=CC=C2)cc1 convert to all 0 features\n",
      "rdkit not found this smiles: NOOSc1ccc(NC(=S)NCCCCC[N]23CC4=CC=CC=[N]4[Re+]2[N]2=C(C3)C=CC=C2)cc1 convert to all 0 features\n",
      "rdkit not found this smiles: NOOSc1ccc(NC(=S)NCCCCCCCC[N@@]23CC(=O)O[Re]2[N]2=C(C3)C=CC=C2)cc1 convert to all 0 features\n",
      "rdkit not found this smiles: CN1C=C[N]2=C1C[N]1(CCCCCCCCCCNC(=S)Nc3ccc(SOON)cc3)CC3=[N](C=CN3C)[Re+]21 convert to all 0 features\n",
      "rdkit not found this smiles: Cn1c(Nc2c(Cl)ccc(CNC(=O)C3=CC=CC=[N]3O)c2Cl)nc2cc(C(=O)NCCC(F)(F)F)c(cc12)N1CCC(CC1)C(F)(F)F convert to all 0 features\n",
      "rdkit not found this smiles: CC[N]1(CC)CCN(CCOc2ccc3[nH]c(=O)c4CCCNc4c3c2)CC1 convert to all 0 features\n",
      "rdkit not found this smiles: COc1cc(C[N](C)(C)C2CCCC2)cc2[nH]c(=O)c3CCCNc3c12 convert to all 0 features\n",
      "rdkit not found this smiles: CC1=C2C(N(C(=O)C2=[N](N1)C1CC1)c1cc(C)c(=O)n(C)c1)c1ccc(Cl)cc1 convert to all 0 features\n",
      "rdkit not found this smiles: CC1=N[N](C)=C(C)C1N[S+]([O-])(=O)c1c(Cl)cc(cc1Cl)-c1cccc2CNCCc12 convert to all 0 features\n",
      "rdkit not found this smiles: CNC(=O)C1=CC(CCCN2CCOCC2)[N](=C1C)c1ccccc1 convert to all 0 features\n",
      "rdkit not found this smiles: O=C(N1N=C(CC1c1ccccc1)c1cnc2ccccc12)c1ccccc1 convert to all 0 features\n",
      "rdkit not found this smiles: CCOC(=O)CCc1c(CC(=O)OCC)cnc1\\C=N\\O convert to all 0 features\n",
      "rdkit not found this smiles: O=C(N1CCN(CC1)c1ccc(cc1)C#N)n1sc2[nH]cccc2c1=O convert to all 0 features\n",
      "rdkit not found this smiles: CC(=O)N1CCN(CC1)C(=O)n1sc2[nH]cccc2c1=O convert to all 0 features\n",
      "rdkit not found this smiles: O=C(C1CC1)N1CCN(CC1)C(=O)n1sc2[nH]cccc2c1=O convert to all 0 features\n",
      "rdkit not found this smiles: COc1ccc(cc1OC)C(=O)N1CCN(CC1)C(=O)n1sc2[nH]cccc2c1=O convert to all 0 features\n",
      "rdkit not found this smiles: CC(C)(O)c1nc(ncc1F)N1C[C@H]2CSC(N)=[N]([C@H]2C1)c1cnccn1 convert to all 0 features\n",
      "rdkit not found this smiles: CC(C)NC(=O)[C@@H]1C[C@H]2C[C@H]2N1C(=O)C[N]1#[N]=C(C(C)=O)c2cc(OCc3ncccn3)ccc12 convert to all 0 features\n",
      "rdkit not found this smiles: CC(C)Cc1ccc2nnc(-c3cc(ncn3)N3CCOCC3)c2c1 convert to all 0 features\n",
      "rdkit not found this smiles: C1CN(CCO1)c1cc(ncn1)-c1nnc2ccccc12 convert to all 0 features\n",
      "rdkit not found this smiles: CC(C)(c1nc(nc2N3CCOC[C@H]3COc12)[N]1=C(N)Nc2ccccc12)S(C)(=O)=O convert to all 0 features\n",
      "rdkit not found this smiles: CC(C)(c1nc(nc2N3CCOC[C@H]3COc12)[N]1=C(Nc2ccccc12)N1CCOCC1)S(C)(=O)=O convert to all 0 features\n",
      "rdkit not found this smiles: Cn1nccc1[C@H]1CCCCC[C@@H]1Oc1cc(F)c(c(F)c1)S(=O)(=O)Nc1cc[nH]cn1 convert to all 0 features\n",
      "rdkit not found this smiles: Clc1ccc(CNc2cc(nn2)-c2cccn(Cc3ccccc3Cl)c2=O)s1 convert to all 0 features\n",
      "rdkit not found this smiles: Clc1ccc(CNc2cc(nn2)-c2cccn(Cc3cccc(Cl)c3)c2=O)s1 convert to all 0 features\n",
      "rdkit not found this smiles: Clc1ccc(CNc2cc(nn2)-c2cccn(Cc3ccc(Cl)cc3)c2=O)s1 convert to all 0 features\n",
      "rdkit not found this smiles: Clc1ccc(CNc2cc(nn2)-c2cccn(Cc3ccc(Cl)s3)c2=O)s1 convert to all 0 features\n",
      "rdkit not found this smiles: Clc1ccc(CNc2cc(nn2)-c2cccn(Cc3ccccc3)c2=O)s1 convert to all 0 features\n",
      "rdkit not found this smiles: OC(=O)n1cccc(-c2cc(NCc3ccc(Cl)s3)nn2)c1=O convert to all 0 features\n",
      "rdkit not found this smiles: Clc1ccc(CNc2cc(nn2)-c2cccn(CC#N)c2=O)s1 convert to all 0 features\n",
      "rdkit not found this smiles: Clc1ccc(CNc2cc(nn2C(=O)c2ccccc2)-c2cccnc2=O)s1 convert to all 0 features\n",
      "rdkit not found this smiles: CC(C)(C)C(=O)n1nc(cc1NCc1ccc(Cl)s1)-c1cccnc1=O convert to all 0 features\n",
      "rdkit not found this smiles: COCC(C)(C)C(=O)n1nc(cc1NCc1ccc(Cl)s1)-c1cccnc1=O convert to all 0 features\n",
      "rdkit not found this smiles: Clc1ccc(CNc2cc(nn2C(=O)c2cccc3OCCOc23)-c2cccnc2=O)s1 convert to all 0 features\n",
      "rdkit not found this smiles: COc1ccc(C(=O)n2nc(cc2NCc2ccc(Cl)s2)-c2cccnc2=O)c(OC)c1 convert to all 0 features\n",
      "rdkit not found this smiles: COc1ccccc1C(=O)n1nc(cc1NCc1ccc(Cl)s1)-c1cccnc1=O convert to all 0 features\n",
      "rdkit not found this smiles: Clc1ccc(CNc2cc(nn2C(=O)c2ccsc2)-c2cccnc2=O)s1 convert to all 0 features\n",
      "rdkit not found this smiles: Clc1ccc(CNc2cc(nn2C(=O)c2ccccc2N2CCOCC2)-c2cccnc2=O)s1 convert to all 0 features\n",
      "rdkit not found this smiles: COCCOc1ccccc1C(=O)n1nc(cc1NCc1ccc(Cl)s1)-c1cccnc1=O convert to all 0 features\n",
      "rdkit not found this smiles: Clc1ccc(CNc2cc(nn2C(=O)c2ccc(cc2)N2CCOCC2)-c2cccnc2=O)s1 convert to all 0 features\n",
      "rdkit not found this smiles: Clc1ccc(CNc2cc(nn2)-c2cccn(Cc3nnn[nH]3)c2=O)s1 convert to all 0 features\n",
      "rdkit not found this smiles: COCCn1cccc(-c2cc(NCc3ccc(Cl)s3)nn2)c1=O convert to all 0 features\n",
      "rdkit not found this smiles: Clc1ccc(CNc2cc(nn2)-c2cccn(CCc3ccccc3)c2=O)s1 convert to all 0 features\n",
      "rdkit not found this smiles: Clc1ccc(CNc2cc(nn2)-c2cccn(Cc3ccco3)c2=O)s1 convert to all 0 features\n",
      "rdkit not found this smiles: Clc1ccc(CNc2cc(nn2)-c2cccn(Cc3ccoc3)c2=O)s1 convert to all 0 features\n",
      "rdkit not found this smiles: Clc1ccc(CNc2cc(nn2)-c2cccn(Cc3cccc4ccccc34)c2=O)s1 convert to all 0 features\n",
      "rdkit not found this smiles: Clc1ccc(CNc2cc(nn2)-c2cccn(Cc3ccc4ccccc4c3)c2=O)s1 convert to all 0 features\n",
      "rdkit not found this smiles: Clc1ccc(CNc2cc(nn2)-c2cccn(Cc3cccnn3)c2=O)s1 convert to all 0 features\n",
      "rdkit not found this smiles: Clc1ccc(CNc2cc(nn2)-c2cccn(Cc3ccccn3)c2=O)s1 convert to all 0 features\n",
      "rdkit not found this smiles: Clc1ccc(CNc2cc(nn2)-c2cccn(Cc3cccnc3)c2=O)s1 convert to all 0 features\n",
      "rdkit not found this smiles: Clc1ccc(CNc2cc(nn2)-c2cccn(Cc3ccncc3)c2=O)s1 convert to all 0 features\n",
      "rdkit not found this smiles: Clc1ccc(CNc2cc(nn2)-c2cccn(Cc3ncccn3)c2=O)s1 convert to all 0 features\n",
      "rdkit not found this smiles: Clc1ccc(CNc2cc(nn2)-c2cccn(Cc3cccs3)c2=O)s1 convert to all 0 features\n",
      "rdkit not found this smiles: Clc1ccc(CNc2cc(nn2)-c2cccn(Cc3ccsc3)c2=O)s1 convert to all 0 features\n",
      "rdkit not found this smiles: Clc1ccc(CNc2cc(nn2)-c2cccn(CC(=O)N3CCOCC3)c2=O)s1 convert to all 0 features\n",
      "rdkit not found this smiles: Clc1ccc(CNc2cc(nn2)-c2cccn(CCN3CCOCC3)c2=O)s1 convert to all 0 features\n",
      "rdkit not found this smiles: Clc1ccc(CNc2cc(nn2)-c2cccn(CCc3ccccn3)c2=O)s1 convert to all 0 features\n",
      "rdkit not found this smiles: Cn1cccc(-c2cc(NCc3ccc(Cl)s3)nn2)c1=O convert to all 0 features\n",
      "rdkit not found this smiles: O=C(c1ccco1)n1nc(cc1NCc1ccccc1)-c1cccnc1=O convert to all 0 features\n",
      "rdkit not found this smiles: CN(C)c1cc(nn1C(=O)c1ccco1)-c1cccnc1=O convert to all 0 features\n",
      "rdkit not found this smiles: Nc1ccccc1C(=O)n1nc(cc1NCc1ccc(Cl)s1)-c1cccnc1=O convert to all 0 features\n",
      "rdkit not found this smiles: CC(C)(C)c1ccc(cc1)C(=O)n1nc(cc1NCc1ccc(Cl)s1)-c1cccnc1=O convert to all 0 features\n",
      "rdkit not found this smiles: Nc1cc(nn1C(=O)c1ccco1)-c1cccnc1=O convert to all 0 features\n",
      "rdkit not found this smiles: CCOC(=O)Cn1cccc(-c2cc(NCc3ccc(Cl)s3)nn2)c1=O convert to all 0 features\n",
      "rdkit not found this smiles: CC(C)(C)OC(=O)Cn1cccc(-c2cc(NCc3ccc(Cl)s3)nn2)c1=O convert to all 0 features\n",
      "rdkit not found this smiles: Clc1cccc(Cl)c1NC(=O)N1CCN(CC1)c1ccc(cc1)-c1[nH]cnn1CCc1ccccc1 convert to all 0 features\n",
      "rdkit not found this smiles: Clc1cccc(Cl)c1NC(=O)N1CCN(CC1)c1ccc(cc1)-c1ncnn1 convert to all 0 features\n",
      "rdkit not found this smiles: Cc1ccc(cc1)-c1nc([nH]o1)-c1ccc(cc1)N1CCN(CC1)C(=O)Nc1ccccc1Cl convert to all 0 features\n",
      "rdkit not found this smiles: Cn1cc(ccc1C(N)=O)S(=O)(=O)c1ccc(CN\\C(Nc2ccncc2)=N/C#N)cc1 convert to all 0 features\n"
     ]
    },
    {
     "name": "stdout",
     "output_type": "stream",
     "text": [
      "rdkit not found this smiles: Cc1cc(nn1)-c1cc(C(=O)Nc2ccc(F)cn2)c2ncnn2c1 convert to all 0 features\n",
      "rdkit not found this smiles: C[N]1=C(OC(=C1)c1cccc(Nc2nccc(n2)-c2cccnc2)c1)N1CCNC(=O)C11CC1 convert to all 0 features\n",
      "rdkit not found this smiles: Cc1ccnc(Nc2cccc(C3=C[N](C)=C(O3)N3CCNC(=O)C33CC3)c2C)n1 convert to all 0 features\n",
      "rdkit not found this smiles: CN1C=[N](C)C=C1c1ccc(C[C@H](NC(=O)[C@H]2N[C@@H]3CC[C@H]2C3)C#N)c(F)c1 convert to all 0 features\n",
      "rdkit not found this smiles: Oc1cnc(Cn2cnc(c(Oc3cc(Cl)cc(c3)C#N)c2=O)C(F)(F)F)c[nH]1 convert to all 0 features\n",
      "Elapsed time:  193.59179854393005\n",
      "Encoding:  CalculateConjointTriad\n",
      "Elapsed time:  194.65378069877625\n",
      "Encoding:  protein2emb_encoder\n",
      "Elapsed time:  229.03278374671936\n"
     ]
    }
   ],
   "source": [
    "df_data = digitalcell.feature_select(df)"
   ]
  },
  {
   "cell_type": "markdown",
   "metadata": {},
   "source": [
    "TODO: The option to include entries that don't have pH and temperature and impute those values should be straightforward to implement"
   ]
  },
  {
   "cell_type": "markdown",
   "metadata": {},
   "source": [
    "## Getting first pass predictions from Model 1\n",
    "\n",
    "This cell loads the initial DeepPurpose model and converts the current training data into the format used by said model. Calling `utils.data_process` may not be necessary if you're computing both models at the same time, but if the encodings used in Model 1 differ from those used in Model 2, trying to run the model without doing this might break it."
   ]
  },
  {
   "cell_type": "code",
   "execution_count": 13,
   "metadata": {
    "ExecuteTime": {
     "end_time": "2020-10-12T17:40:57.994896Z",
     "start_time": "2020-10-12T17:40:24.545890Z"
    }
   },
   "outputs": [
    {
     "name": "stdout",
     "output_type": "stream",
     "text": [
      "Drug Target Interaction Prediction Mode...\n",
      "in total: 93336 drug-target pairs\n",
      "encoding drug...\n",
      "unique drugs: 63535\n",
      "rdkit not found this smiles for morgan: CSc1ccc(cc1)C1=C(C=C[N]([O-])=C1)[C@@H]1CCC(F)(F)C[C@H]1C(=O)NCC#N convert to all 0 features\n",
      "rdkit not found this smiles for morgan: O=C1NC(=O)c2c1c1c3ccccc3n3[Ru](C#[O])[n+]4cccc2c4c13 convert to all 0 features\n",
      "rdkit not found this smiles for morgan: CN1C(=O)c2c(C1=O)c1cc(F)c[n+]3[Ru](C#[O])n4c5ccc(O)cc5c2c4c13 convert to all 0 features\n",
      "rdkit not found this smiles for morgan: NOOSc1ccc(CC[N]23CC4=CC=CC=[N]4[Re+]2[N]2=C(C3)C=CC=C2)cc1 convert to all 0 features\n",
      "rdkit not found this smiles for morgan: NOOSc1ccc(CC[N@@]23CC(=O)O[Re]2[N]2=C(C3)C=CC=C2)cc1 convert to all 0 features\n",
      "rdkit not found this smiles for morgan: CN1C=C[N]2=C1C[N]1(CCc3ccc(SOON)cc3)CC3=[N](C=CN3C)[Re+]21 convert to all 0 features\n",
      "rdkit not found this smiles for morgan: NOOSc1ccc(NC(=S)NCCCCCCCC[N]23CC4=CC=CC=[N]4[Re+]2[N]2=C(C3)C=CC=C2)cc1 convert to all 0 features\n",
      "rdkit not found this smiles for morgan: NOOSc1ccc(NC(=S)NCCOCCOCC[N]23CC4=CC=CC=[N]4[Re+]2[N]2=C(C3)C=CC=C2)cc1 convert to all 0 features\n",
      "rdkit not found this smiles for morgan: NOOSc1ccc(NC(=S)NCCCCC[N]23CC4=CC=CC=[N]4[Re+]2[N]2=C(C3)C=CC=C2)cc1 convert to all 0 features\n",
      "rdkit not found this smiles for morgan: NOOSc1ccc(NC(=S)NCCCCCCCC[N@@]23CC(=O)O[Re]2[N]2=C(C3)C=CC=C2)cc1 convert to all 0 features\n",
      "rdkit not found this smiles for morgan: CN1C=C[N]2=C1C[N]1(CCCCCCCCCCNC(=S)Nc3ccc(SOON)cc3)CC3=[N](C=CN3C)[Re+]21 convert to all 0 features\n",
      "rdkit not found this smiles for morgan: Cn1c(Nc2c(Cl)ccc(CNC(=O)C3=CC=CC=[N]3O)c2Cl)nc2cc(C(=O)NCCC(F)(F)F)c(cc12)N1CCC(CC1)C(F)(F)F convert to all 0 features\n",
      "rdkit not found this smiles for morgan: CC[N]1(CC)CCN(CCOc2ccc3[nH]c(=O)c4CCCNc4c3c2)CC1 convert to all 0 features\n",
      "rdkit not found this smiles for morgan: COc1cc(C[N](C)(C)C2CCCC2)cc2[nH]c(=O)c3CCCNc3c12 convert to all 0 features\n",
      "rdkit not found this smiles for morgan: CC1=C2C(N(C(=O)C2=[N](N1)C1CC1)c1cc(C)c(=O)n(C)c1)c1ccc(Cl)cc1 convert to all 0 features\n",
      "rdkit not found this smiles for morgan: CC1=N[N](C)=C(C)C1N[S+]([O-])(=O)c1c(Cl)cc(cc1Cl)-c1cccc2CNCCc12 convert to all 0 features\n",
      "rdkit not found this smiles for morgan: CNC(=O)C1=CC(CCCN2CCOCC2)[N](=C1C)c1ccccc1 convert to all 0 features\n",
      "rdkit not found this smiles for morgan: O=C(N1N=C(CC1c1ccccc1)c1cnc2ccccc12)c1ccccc1 convert to all 0 features\n",
      "rdkit not found this smiles for morgan: CCOC(=O)CCc1c(CC(=O)OCC)cnc1\\C=N\\O convert to all 0 features\n",
      "rdkit not found this smiles for morgan: O=C(N1CCN(CC1)c1ccc(cc1)C#N)n1sc2[nH]cccc2c1=O convert to all 0 features\n",
      "rdkit not found this smiles for morgan: CC(=O)N1CCN(CC1)C(=O)n1sc2[nH]cccc2c1=O convert to all 0 features\n",
      "rdkit not found this smiles for morgan: O=C(C1CC1)N1CCN(CC1)C(=O)n1sc2[nH]cccc2c1=O convert to all 0 features\n",
      "rdkit not found this smiles for morgan: COc1ccc(cc1OC)C(=O)N1CCN(CC1)C(=O)n1sc2[nH]cccc2c1=O convert to all 0 features\n",
      "rdkit not found this smiles for morgan: CC(C)(O)c1nc(ncc1F)N1C[C@H]2CSC(N)=[N]([C@H]2C1)c1cnccn1 convert to all 0 features\n",
      "rdkit not found this smiles for morgan: CC(C)NC(=O)[C@@H]1C[C@H]2C[C@H]2N1C(=O)C[N]1#[N]=C(C(C)=O)c2cc(OCc3ncccn3)ccc12 convert to all 0 features\n",
      "rdkit not found this smiles for morgan: CC(C)Cc1ccc2nnc(-c3cc(ncn3)N3CCOCC3)c2c1 convert to all 0 features\n",
      "rdkit not found this smiles for morgan: C1CN(CCO1)c1cc(ncn1)-c1nnc2ccccc12 convert to all 0 features\n",
      "rdkit not found this smiles for morgan: CC(C)(c1nc(nc2N3CCOC[C@H]3COc12)[N]1=C(N)Nc2ccccc12)S(C)(=O)=O convert to all 0 features\n",
      "rdkit not found this smiles for morgan: CC(C)(c1nc(nc2N3CCOC[C@H]3COc12)[N]1=C(Nc2ccccc12)N1CCOCC1)S(C)(=O)=O convert to all 0 features\n",
      "rdkit not found this smiles for morgan: Cn1nccc1[C@H]1CCCCC[C@@H]1Oc1cc(F)c(c(F)c1)S(=O)(=O)Nc1cc[nH]cn1 convert to all 0 features\n",
      "rdkit not found this smiles for morgan: Clc1ccc(CNc2cc(nn2)-c2cccn(Cc3ccccc3Cl)c2=O)s1 convert to all 0 features\n",
      "rdkit not found this smiles for morgan: Clc1ccc(CNc2cc(nn2)-c2cccn(Cc3cccc(Cl)c3)c2=O)s1 convert to all 0 features\n",
      "rdkit not found this smiles for morgan: Clc1ccc(CNc2cc(nn2)-c2cccn(Cc3ccc(Cl)cc3)c2=O)s1 convert to all 0 features\n",
      "rdkit not found this smiles for morgan: Clc1ccc(CNc2cc(nn2)-c2cccn(Cc3ccc(Cl)s3)c2=O)s1 convert to all 0 features\n",
      "rdkit not found this smiles for morgan: Clc1ccc(CNc2cc(nn2)-c2cccn(Cc3ccccc3)c2=O)s1 convert to all 0 features\n",
      "rdkit not found this smiles for morgan: OC(=O)n1cccc(-c2cc(NCc3ccc(Cl)s3)nn2)c1=O convert to all 0 features\n",
      "rdkit not found this smiles for morgan: Clc1ccc(CNc2cc(nn2)-c2cccn(CC#N)c2=O)s1 convert to all 0 features\n",
      "rdkit not found this smiles for morgan: Clc1ccc(CNc2cc(nn2C(=O)c2ccccc2)-c2cccnc2=O)s1 convert to all 0 features\n",
      "rdkit not found this smiles for morgan: CC(C)(C)C(=O)n1nc(cc1NCc1ccc(Cl)s1)-c1cccnc1=O convert to all 0 features\n",
      "rdkit not found this smiles for morgan: COCC(C)(C)C(=O)n1nc(cc1NCc1ccc(Cl)s1)-c1cccnc1=O convert to all 0 features\n",
      "rdkit not found this smiles for morgan: Clc1ccc(CNc2cc(nn2C(=O)c2cccc3OCCOc23)-c2cccnc2=O)s1 convert to all 0 features\n",
      "rdkit not found this smiles for morgan: COc1ccc(C(=O)n2nc(cc2NCc2ccc(Cl)s2)-c2cccnc2=O)c(OC)c1 convert to all 0 features\n",
      "rdkit not found this smiles for morgan: COc1ccccc1C(=O)n1nc(cc1NCc1ccc(Cl)s1)-c1cccnc1=O convert to all 0 features\n",
      "rdkit not found this smiles for morgan: Clc1ccc(CNc2cc(nn2C(=O)c2ccsc2)-c2cccnc2=O)s1 convert to all 0 features\n",
      "rdkit not found this smiles for morgan: Clc1ccc(CNc2cc(nn2C(=O)c2ccccc2N2CCOCC2)-c2cccnc2=O)s1 convert to all 0 features\n",
      "rdkit not found this smiles for morgan: COCCOc1ccccc1C(=O)n1nc(cc1NCc1ccc(Cl)s1)-c1cccnc1=O convert to all 0 features\n",
      "rdkit not found this smiles for morgan: Clc1ccc(CNc2cc(nn2C(=O)c2ccc(cc2)N2CCOCC2)-c2cccnc2=O)s1 convert to all 0 features\n",
      "rdkit not found this smiles for morgan: Clc1ccc(CNc2cc(nn2)-c2cccn(Cc3nnn[nH]3)c2=O)s1 convert to all 0 features\n",
      "rdkit not found this smiles for morgan: COCCn1cccc(-c2cc(NCc3ccc(Cl)s3)nn2)c1=O convert to all 0 features\n",
      "rdkit not found this smiles for morgan: Clc1ccc(CNc2cc(nn2)-c2cccn(CCc3ccccc3)c2=O)s1 convert to all 0 features\n",
      "rdkit not found this smiles for morgan: Clc1ccc(CNc2cc(nn2)-c2cccn(Cc3ccco3)c2=O)s1 convert to all 0 features\n",
      "rdkit not found this smiles for morgan: Clc1ccc(CNc2cc(nn2)-c2cccn(Cc3ccoc3)c2=O)s1 convert to all 0 features\n",
      "rdkit not found this smiles for morgan: Clc1ccc(CNc2cc(nn2)-c2cccn(Cc3cccc4ccccc34)c2=O)s1 convert to all 0 features\n",
      "rdkit not found this smiles for morgan: Clc1ccc(CNc2cc(nn2)-c2cccn(Cc3ccc4ccccc4c3)c2=O)s1 convert to all 0 features\n",
      "rdkit not found this smiles for morgan: Clc1ccc(CNc2cc(nn2)-c2cccn(Cc3cccnn3)c2=O)s1 convert to all 0 features\n",
      "rdkit not found this smiles for morgan: Clc1ccc(CNc2cc(nn2)-c2cccn(Cc3ccccn3)c2=O)s1 convert to all 0 features\n",
      "rdkit not found this smiles for morgan: Clc1ccc(CNc2cc(nn2)-c2cccn(Cc3cccnc3)c2=O)s1 convert to all 0 features\n",
      "rdkit not found this smiles for morgan: Clc1ccc(CNc2cc(nn2)-c2cccn(Cc3ccncc3)c2=O)s1 convert to all 0 features\n",
      "rdkit not found this smiles for morgan: Clc1ccc(CNc2cc(nn2)-c2cccn(Cc3ncccn3)c2=O)s1 convert to all 0 features\n",
      "rdkit not found this smiles for morgan: Clc1ccc(CNc2cc(nn2)-c2cccn(Cc3cccs3)c2=O)s1 convert to all 0 features\n",
      "rdkit not found this smiles for morgan: Clc1ccc(CNc2cc(nn2)-c2cccn(Cc3ccsc3)c2=O)s1 convert to all 0 features\n",
      "rdkit not found this smiles for morgan: Clc1ccc(CNc2cc(nn2)-c2cccn(CC(=O)N3CCOCC3)c2=O)s1 convert to all 0 features\n",
      "rdkit not found this smiles for morgan: Clc1ccc(CNc2cc(nn2)-c2cccn(CCN3CCOCC3)c2=O)s1 convert to all 0 features\n",
      "rdkit not found this smiles for morgan: Clc1ccc(CNc2cc(nn2)-c2cccn(CCc3ccccn3)c2=O)s1 convert to all 0 features\n",
      "rdkit not found this smiles for morgan: Cn1cccc(-c2cc(NCc3ccc(Cl)s3)nn2)c1=O convert to all 0 features\n",
      "rdkit not found this smiles for morgan: O=C(c1ccco1)n1nc(cc1NCc1ccccc1)-c1cccnc1=O convert to all 0 features\n",
      "rdkit not found this smiles for morgan: CN(C)c1cc(nn1C(=O)c1ccco1)-c1cccnc1=O convert to all 0 features\n",
      "rdkit not found this smiles for morgan: Nc1ccccc1C(=O)n1nc(cc1NCc1ccc(Cl)s1)-c1cccnc1=O convert to all 0 features\n",
      "rdkit not found this smiles for morgan: CC(C)(C)c1ccc(cc1)C(=O)n1nc(cc1NCc1ccc(Cl)s1)-c1cccnc1=O convert to all 0 features\n",
      "rdkit not found this smiles for morgan: Nc1cc(nn1C(=O)c1ccco1)-c1cccnc1=O convert to all 0 features\n",
      "rdkit not found this smiles for morgan: CCOC(=O)Cn1cccc(-c2cc(NCc3ccc(Cl)s3)nn2)c1=O convert to all 0 features\n",
      "rdkit not found this smiles for morgan: CC(C)(C)OC(=O)Cn1cccc(-c2cc(NCc3ccc(Cl)s3)nn2)c1=O convert to all 0 features\n"
     ]
    },
    {
     "name": "stdout",
     "output_type": "stream",
     "text": [
      "rdkit not found this smiles for morgan: Clc1cccc(Cl)c1NC(=O)N1CCN(CC1)c1ccc(cc1)-c1[nH]cnn1CCc1ccccc1 convert to all 0 features\n",
      "rdkit not found this smiles for morgan: Clc1cccc(Cl)c1NC(=O)N1CCN(CC1)c1ccc(cc1)-c1ncnn1 convert to all 0 features\n",
      "rdkit not found this smiles for morgan: Cc1ccc(cc1)-c1nc([nH]o1)-c1ccc(cc1)N1CCN(CC1)C(=O)Nc1ccccc1Cl convert to all 0 features\n",
      "rdkit not found this smiles for morgan: Cn1cc(ccc1C(N)=O)S(=O)(=O)c1ccc(CN\\C(Nc2ccncc2)=N/C#N)cc1 convert to all 0 features\n",
      "rdkit not found this smiles for morgan: Cc1cc(nn1)-c1cc(C(=O)Nc2ccc(F)cn2)c2ncnn2c1 convert to all 0 features\n",
      "rdkit not found this smiles for morgan: C[N]1=C(OC(=C1)c1cccc(Nc2nccc(n2)-c2cccnc2)c1)N1CCNC(=O)C11CC1 convert to all 0 features\n",
      "rdkit not found this smiles for morgan: Cc1ccnc(Nc2cccc(C3=C[N](C)=C(O3)N3CCNC(=O)C33CC3)c2C)n1 convert to all 0 features\n",
      "rdkit not found this smiles for morgan: CN1C=[N](C)C=C1c1ccc(C[C@H](NC(=O)[C@H]2N[C@@H]3CC[C@H]2C3)C#N)c(F)c1 convert to all 0 features\n",
      "rdkit not found this smiles for morgan: Oc1cnc(Cn2cnc(c(Oc3cc(Cl)cc(c3)C#N)c2=O)C(F)(F)F)c[nH]1 convert to all 0 features\n",
      "encoding protein...\n",
      "unique target sequence: 1113\n",
      "splitting dataset...\n",
      "do not do train/test split on the data for already splitted data\n"
     ]
    }
   ],
   "source": [
    "model = models.model_pretrained(path_dir = '../../model-9-24')\n",
    "X_pred = utils.data_process(X_drugs, X_targets, y, \n",
    "                                model.drug_encoding, model.target_encoding, \n",
    "                                split_method='no_split')"
   ]
  },
  {
   "cell_type": "markdown",
   "metadata": {},
   "source": [
    "We then use the first model to generate estimates of pIC50 for the whole training dataset."
   ]
  },
  {
   "cell_type": "code",
   "execution_count": 14,
   "metadata": {
    "ExecuteTime": {
     "end_time": "2020-10-12T17:42:17.947550Z",
     "start_time": "2020-10-12T17:41:30.106776Z"
    },
    "scrolled": false
   },
   "outputs": [
    {
     "name": "stdout",
     "output_type": "stream",
     "text": [
      "predicting...\n"
     ]
    }
   ],
   "source": [
    "first_pass = model.predict(X_pred)"
   ]
  },
  {
   "cell_type": "markdown",
   "metadata": {},
   "source": [
    "## Training model 2\n",
    "\n",
    "This step converts the features generated by the encoding step into vectors to be fed into the model. You can expect this to take over 5 minutes."
   ]
  },
  {
   "cell_type": "code",
   "execution_count": 15,
   "metadata": {
    "ExecuteTime": {
     "end_time": "2020-10-12T17:48:23.065487Z",
     "start_time": "2020-10-12T17:42:31.107617Z"
    }
   },
   "outputs": [
    {
     "name": "stdout",
     "output_type": "stream",
     "text": [
      "Converting features to vectors (this takes a while)\n"
     ]
    }
   ],
   "source": [
    "X_train,X_test,y_train,y_test,cat_list = digitalcell.data_process_omic(df_data, first_pass)"
   ]
  },
  {
   "cell_type": "markdown",
   "metadata": {},
   "source": [
    "The following cells generate a gradient boosting model that improves on the performance of model 1 by incorporating additional information and encodings. The model actually consists of 3 estimators, providing an 80 percent lower and upper prediction interval. You can adjust the bounds on the confidence interval when you create the model. Each model takes about 3 or 4 minutes to build."
   ]
  },
  {
   "cell_type": "code",
   "execution_count": 9,
   "metadata": {
    "ExecuteTime": {
     "end_time": "2020-10-12T05:26:47.083641Z",
     "start_time": "2020-10-12T05:26:47.068642Z"
    }
   },
   "outputs": [],
   "source": [
    "model2 = digitalcell.GBoostModel(\n",
    "    lower_alpha=0.1, upper_alpha=0.9, n_estimators=10, org_list = cat_list)"
   ]
  },
  {
   "cell_type": "code",
   "execution_count": 12,
   "metadata": {
    "ExecuteTime": {
     "end_time": "2020-10-12T05:50:38.023812Z",
     "start_time": "2020-10-12T05:37:14.130635Z"
    }
   },
   "outputs": [
    {
     "name": "stdout",
     "output_type": "stream",
     "text": [
      "Calculating estimates...\n",
      "Getting lower bound...\n",
      "Getting upper bound...\n"
     ]
    }
   ],
   "source": [
    "# Fit and make predictions\n",
    "model2.fit(X_train, y_train)"
   ]
  },
  {
   "cell_type": "markdown",
   "metadata": {},
   "source": [
    "We can quickly use this model to make predictions for all of the testing data, which is useful for getting performance metrics."
   ]
  },
  {
   "cell_type": "code",
   "execution_count": 16,
   "metadata": {
    "ExecuteTime": {
     "end_time": "2020-10-12T05:52:17.952613Z",
     "start_time": "2020-10-12T05:52:16.972616Z"
    }
   },
   "outputs": [],
   "source": [
    "model2.predictions = model2.predict(X_test)"
   ]
  },
  {
   "cell_type": "markdown",
   "metadata": {},
   "source": [
    "Be sure to pickle your model to preserve its deliciousness. (This cell just saves the model to a file.)\n",
    "\n",
    "TODO: the date should not be hardcoded in"
   ]
  },
  {
   "cell_type": "code",
   "execution_count": 14,
   "metadata": {
    "ExecuteTime": {
     "end_time": "2020-10-12T05:50:55.213994Z",
     "start_time": "2020-10-12T05:50:55.188997Z"
    }
   },
   "outputs": [],
   "source": [
    "import pickle\n",
    "\n",
    "filename = 'model_10_12.sav'\n",
    "pickle.dump(model2, open(filename, 'wb'))"
   ]
  },
  {
   "cell_type": "markdown",
   "metadata": {},
   "source": [
    "## Usage\n",
    "\n",
    "The usage is pretty straightforward, but currently takes a few lines of code, which I wll write a wrapper function for shortly.\n",
    "\n",
    "TODO: wrapper"
   ]
  },
  {
   "cell_type": "code",
   "execution_count": 16,
   "metadata": {
    "ExecuteTime": {
     "end_time": "2020-10-12T17:54:59.525923Z",
     "start_time": "2020-10-12T17:54:59.474933Z"
    }
   },
   "outputs": [],
   "source": [
    "import pickle\n",
    "\n",
    "model2 = pickle.load( open( \"../../model_10_12.sav\", \"rb\" ) )"
   ]
  },
  {
   "cell_type": "code",
   "execution_count": 17,
   "metadata": {
    "ExecuteTime": {
     "end_time": "2020-10-12T17:55:02.615543Z",
     "start_time": "2020-10-12T17:55:02.601557Z"
    }
   },
   "outputs": [],
   "source": [
    "X_drug = ['CC1=C2C=C(C=CC2=NN1)C3=CC(=CN=C3)OCC(CC4=CC=CC=C4)N']\n",
    "X_target = ['MKKFFDSRREQGGSGLGSGSSGGGGSTSGLGSGYIGRVFGIGRQQVTVDEVLAEGGFAIVFLVRTSNGMKCALKRMFVNNEHDLQVCKREIQIMRDLSGHKNIVGYIDSSINNVSSGDVWEVLILMDFCRGGQVVNLMNQRLQTGFTENEVLQIFCDTCEAVARLHQCKTPIIHRDLKVENILLHDRGHYVLCDFGSATNKFQNPQTEGVNAVEDEIKKYTTLSYRAPEMVNLYSGKIITTKADIWALGCLLYKLCYFTLPFGESQVAICDGNFTIPDNSRYSQDMHCLIRYMLEPDPDKRPDIYQVSYFSFKLLKKECPIPNVQNSPIPAKLPEPVKASEAAAKKTQPKARLTDPIPTTETSIAPRQRPKAGQTQPNPGILPIQPALTPRKRATVQPPPQAAGSSNQPGLLASVPQPKPQAPPSQPLPQTQAKQPQAPPTPQQTPSTQAQGLPAQAQATPQHQQQLFLKQQQQQQQPPPAQQQPAGTFYQQQQAQTQQFQAVHPATQKPAIAQFPVVSQGGSQQQLMQNFYQQQQQQQQQQQQQQLATALHQQQLMTQQAALQQKPTMAAGQQPQPQPAAAPQPAPAQEPAIQAPVRQQPKVQTTPPPAVQGQKVGSLTPPSSPKTQRAGHRRILSDVTHSAVFGVPASKSTQLLQAAAAEASLNKSKSATTTPSGSPRTSQQNVYNPSEGSTWNPFDDDNFSKLTAEELLNKDFAKLGEGKHPEKLGGSAESLIPGFQSTQGDAFATTSFSAGTAEKRKGGQTVDSGLPLLSVSDPFIPLQVPDAPEKLIEGLKSPDTSLLLPDLLPMTDPFGSTSDAVIEKADVAVESLIPGLEPPVPQRLPSQTESVTSNRTDSLTGEDSLLDCSLLSNPTTDLLEEFAPTAISAPVHKAAEDSNLISGFDVPEGSDKVAEDEFDPIPVLITKNPQGGHSRNSSGSSESSLPNLARSLLLVDQLIDL']"
   ]
  },
  {
   "cell_type": "code",
   "execution_count": 18,
   "metadata": {
    "ExecuteTime": {
     "end_time": "2020-10-12T17:55:04.913699Z",
     "start_time": "2020-10-12T17:55:04.699700Z"
    }
   },
   "outputs": [
    {
     "name": "stdout",
     "output_type": "stream",
     "text": [
      "Drug Target Interaction Prediction Mode...\n",
      "in total: 1 drug-target pairs\n",
      "encoding drug...\n",
      "unique drugs: 1\n",
      "encoding protein...\n",
      "unique target sequence: 1\n",
      "splitting dataset...\n",
      "do not do train/test split on the data for already splitted data\n",
      "predicting...\n",
      "Encoding:  drug2emb_encoder\n",
      "Elapsed time:  0.003999471664428711\n",
      "Encoding:  smiles2daylight\n",
      "Elapsed time:  0.026001453399658203\n",
      "Encoding:  CalculateConjointTriad\n",
      "Elapsed time:  0.027999401092529297\n",
      "Encoding:  protein2emb_encoder\n",
      "Elapsed time:  0.03100109100341797\n"
     ]
    },
    {
     "ename": "ValueError",
     "evalue": "Expected 2D array, got 1D array instead:\narray=[  7.         35.        800.        ...         nan         nan\n   6.3993535].\nReshape your data either using array.reshape(-1, 1) if your data has a single feature or array.reshape(1, -1) if it contains a single sample.",
     "output_type": "error",
     "traceback": [
      "\u001b[1;31m---------------------------------------------------------------------------\u001b[0m",
      "\u001b[1;31mValueError\u001b[0m                                Traceback (most recent call last)",
      "\u001b[1;32m<ipython-input-18-37961cce9c28>\u001b[0m in \u001b[0;36m<module>\u001b[1;34m\u001b[0m\n\u001b[0;32m      3\u001b[0m                                 split_method='no_split')\n\u001b[0;32m      4\u001b[0m \u001b[0mtest_2\u001b[0m \u001b[1;33m=\u001b[0m \u001b[0mmodel\u001b[0m\u001b[1;33m.\u001b[0m\u001b[0mpredict\u001b[0m\u001b[1;33m(\u001b[0m\u001b[0mtest_1\u001b[0m\u001b[1;33m)\u001b[0m\u001b[1;33m\u001b[0m\u001b[1;33m\u001b[0m\u001b[0m\n\u001b[1;32m----> 5\u001b[1;33m \u001b[0mtest_3\u001b[0m \u001b[1;33m=\u001b[0m \u001b[0mmodel2\u001b[0m\u001b[1;33m.\u001b[0m\u001b[0mpredict_drug\u001b[0m\u001b[1;33m(\u001b[0m\u001b[0mX_drug\u001b[0m\u001b[1;33m,\u001b[0m\u001b[0mX_target\u001b[0m\u001b[1;33m,\u001b[0m\u001b[0mtest_2\u001b[0m\u001b[1;33m)\u001b[0m\u001b[1;33m\u001b[0m\u001b[1;33m\u001b[0m\u001b[0m\n\u001b[0m",
      "\u001b[1;32m~\\Dropbox\\Work\\insight\\omic\\digicell\\digitalcell.py\u001b[0m in \u001b[0;36mpredict_drug\u001b[1;34m(self, X_drug, X_target, first_pass, temp, pH, org)\u001b[0m\n\u001b[0;32m    365\u001b[0m \u001b[1;33m\u001b[0m\u001b[0m\n\u001b[0;32m    366\u001b[0m         \u001b[0mcalculate_error\u001b[0m\u001b[1;33m(\u001b[0m\u001b[0mself\u001b[0m\u001b[1;33m.\u001b[0m\u001b[0mpredictions\u001b[0m\u001b[1;33m)\u001b[0m\u001b[1;33m\u001b[0m\u001b[1;33m\u001b[0m\u001b[0m\n\u001b[1;32m--> 367\u001b[1;33m         \u001b[0mfig\u001b[0m \u001b[1;33m=\u001b[0m \u001b[0mshow_metrics\u001b[0m\u001b[1;33m(\u001b[0m\u001b[0mself\u001b[0m\u001b[1;33m.\u001b[0m\u001b[0mpredictions\u001b[0m\u001b[1;33m)\u001b[0m\u001b[1;33m\u001b[0m\u001b[1;33m\u001b[0m\u001b[0m\n\u001b[0m\u001b[0;32m    368\u001b[0m         \u001b[1;32mreturn\u001b[0m \u001b[0mfig\u001b[0m\u001b[1;33m\u001b[0m\u001b[1;33m\u001b[0m\u001b[0m\n",
      "\u001b[1;32m~\\Dropbox\\Work\\insight\\omic\\digicell\\digitalcell.py\u001b[0m in \u001b[0;36mpredict\u001b[1;34m(self, Z)\u001b[0m\n\u001b[0;32m    331\u001b[0m         \u001b[0mX\u001b[0m\u001b[1;33m[\u001b[0m\u001b[0mlen\u001b[0m\u001b[1;33m(\u001b[0m\u001b[0mX\u001b[0m\u001b[1;33m.\u001b[0m\u001b[0mcolumns\u001b[0m\u001b[1;33m)\u001b[0m\u001b[1;33m]\u001b[0m \u001b[1;33m=\u001b[0m \u001b[0mfirst_pass\u001b[0m\u001b[1;33m\u001b[0m\u001b[1;33m\u001b[0m\u001b[0m\n\u001b[0;32m    332\u001b[0m         \u001b[0mZ\u001b[0m \u001b[1;33m=\u001b[0m \u001b[0mflattener\u001b[0m\u001b[1;33m(\u001b[0m\u001b[0mnp\u001b[0m\u001b[1;33m.\u001b[0m\u001b[0masarray\u001b[0m\u001b[1;33m(\u001b[0m\u001b[0mX\u001b[0m\u001b[1;33m)\u001b[0m\u001b[1;33m)\u001b[0m\u001b[1;33m\u001b[0m\u001b[1;33m\u001b[0m\u001b[0m\n\u001b[1;32m--> 333\u001b[1;33m \u001b[1;33m\u001b[0m\u001b[0m\n\u001b[0m\u001b[0;32m    334\u001b[0m         \u001b[0mpredictions\u001b[0m \u001b[1;33m=\u001b[0m \u001b[0mself\u001b[0m\u001b[1;33m.\u001b[0m\u001b[0mpredict\u001b[0m\u001b[1;33m(\u001b[0m\u001b[0mZ\u001b[0m\u001b[1;33m)\u001b[0m\u001b[1;33m\u001b[0m\u001b[1;33m\u001b[0m\u001b[0m\n\u001b[0;32m    335\u001b[0m \u001b[1;33m\u001b[0m\u001b[0m\n",
      "\u001b[1;32m~\\anaconda3\\envs\\multiPurpose\\lib\\site-packages\\sklearn\\ensemble\\_gb.py\u001b[0m in \u001b[0;36mpredict\u001b[1;34m(self, X)\u001b[0m\n\u001b[0;32m   1607\u001b[0m             \u001b[0mThe\u001b[0m \u001b[0mpredicted\u001b[0m \u001b[0mvalues\u001b[0m\u001b[1;33m.\u001b[0m\u001b[1;33m\u001b[0m\u001b[1;33m\u001b[0m\u001b[0m\n\u001b[0;32m   1608\u001b[0m         \"\"\"\n\u001b[1;32m-> 1609\u001b[1;33m         \u001b[0mX\u001b[0m \u001b[1;33m=\u001b[0m \u001b[0mcheck_array\u001b[0m\u001b[1;33m(\u001b[0m\u001b[0mX\u001b[0m\u001b[1;33m,\u001b[0m \u001b[0mdtype\u001b[0m\u001b[1;33m=\u001b[0m\u001b[0mDTYPE\u001b[0m\u001b[1;33m,\u001b[0m \u001b[0morder\u001b[0m\u001b[1;33m=\u001b[0m\u001b[1;34m\"C\"\u001b[0m\u001b[1;33m,\u001b[0m \u001b[0maccept_sparse\u001b[0m\u001b[1;33m=\u001b[0m\u001b[1;34m'csr'\u001b[0m\u001b[1;33m)\u001b[0m\u001b[1;33m\u001b[0m\u001b[1;33m\u001b[0m\u001b[0m\n\u001b[0m\u001b[0;32m   1610\u001b[0m         \u001b[1;31m# In regression we can directly return the raw value from the trees.\u001b[0m\u001b[1;33m\u001b[0m\u001b[1;33m\u001b[0m\u001b[1;33m\u001b[0m\u001b[0m\n\u001b[0;32m   1611\u001b[0m         \u001b[1;32mreturn\u001b[0m \u001b[0mself\u001b[0m\u001b[1;33m.\u001b[0m\u001b[0m_raw_predict\u001b[0m\u001b[1;33m(\u001b[0m\u001b[0mX\u001b[0m\u001b[1;33m)\u001b[0m\u001b[1;33m.\u001b[0m\u001b[0mravel\u001b[0m\u001b[1;33m(\u001b[0m\u001b[1;33m)\u001b[0m\u001b[1;33m\u001b[0m\u001b[1;33m\u001b[0m\u001b[0m\n",
      "\u001b[1;32m~\\anaconda3\\envs\\multiPurpose\\lib\\site-packages\\sklearn\\utils\\validation.py\u001b[0m in \u001b[0;36minner_f\u001b[1;34m(*args, **kwargs)\u001b[0m\n\u001b[0;32m     70\u001b[0m                           FutureWarning)\n\u001b[0;32m     71\u001b[0m         \u001b[0mkwargs\u001b[0m\u001b[1;33m.\u001b[0m\u001b[0mupdate\u001b[0m\u001b[1;33m(\u001b[0m\u001b[1;33m{\u001b[0m\u001b[0mk\u001b[0m\u001b[1;33m:\u001b[0m \u001b[0marg\u001b[0m \u001b[1;32mfor\u001b[0m \u001b[0mk\u001b[0m\u001b[1;33m,\u001b[0m \u001b[0marg\u001b[0m \u001b[1;32min\u001b[0m \u001b[0mzip\u001b[0m\u001b[1;33m(\u001b[0m\u001b[0msig\u001b[0m\u001b[1;33m.\u001b[0m\u001b[0mparameters\u001b[0m\u001b[1;33m,\u001b[0m \u001b[0margs\u001b[0m\u001b[1;33m)\u001b[0m\u001b[1;33m}\u001b[0m\u001b[1;33m)\u001b[0m\u001b[1;33m\u001b[0m\u001b[1;33m\u001b[0m\u001b[0m\n\u001b[1;32m---> 72\u001b[1;33m         \u001b[1;32mreturn\u001b[0m \u001b[0mf\u001b[0m\u001b[1;33m(\u001b[0m\u001b[1;33m**\u001b[0m\u001b[0mkwargs\u001b[0m\u001b[1;33m)\u001b[0m\u001b[1;33m\u001b[0m\u001b[1;33m\u001b[0m\u001b[0m\n\u001b[0m\u001b[0;32m     73\u001b[0m     \u001b[1;32mreturn\u001b[0m \u001b[0minner_f\u001b[0m\u001b[1;33m\u001b[0m\u001b[1;33m\u001b[0m\u001b[0m\n\u001b[0;32m     74\u001b[0m \u001b[1;33m\u001b[0m\u001b[0m\n",
      "\u001b[1;32m~\\anaconda3\\envs\\multiPurpose\\lib\\site-packages\\sklearn\\utils\\validation.py\u001b[0m in \u001b[0;36mcheck_array\u001b[1;34m(array, accept_sparse, accept_large_sparse, dtype, order, copy, force_all_finite, ensure_2d, allow_nd, ensure_min_samples, ensure_min_features, estimator)\u001b[0m\n\u001b[0;32m    621\u001b[0m                     \u001b[1;34m\"Reshape your data either using array.reshape(-1, 1) if \"\u001b[0m\u001b[1;33m\u001b[0m\u001b[1;33m\u001b[0m\u001b[0m\n\u001b[0;32m    622\u001b[0m                     \u001b[1;34m\"your data has a single feature or array.reshape(1, -1) \"\u001b[0m\u001b[1;33m\u001b[0m\u001b[1;33m\u001b[0m\u001b[0m\n\u001b[1;32m--> 623\u001b[1;33m                     \"if it contains a single sample.\".format(array))\n\u001b[0m\u001b[0;32m    624\u001b[0m \u001b[1;33m\u001b[0m\u001b[0m\n\u001b[0;32m    625\u001b[0m         \u001b[1;31m# in the future np.flexible dtypes will be handled like object dtypes\u001b[0m\u001b[1;33m\u001b[0m\u001b[1;33m\u001b[0m\u001b[1;33m\u001b[0m\u001b[0m\n",
      "\u001b[1;31mValueError\u001b[0m: Expected 2D array, got 1D array instead:\narray=[  7.         35.        800.        ...         nan         nan\n   6.3993535].\nReshape your data either using array.reshape(-1, 1) if your data has a single feature or array.reshape(1, -1) if it contains a single sample."
     ]
    }
   ],
   "source": [
    "test_1 = utils.data_process(X_drug, X_target, y, \n",
    "                                model.drug_encoding, model.target_encoding, \n",
    "                                split_method='no_split')\n",
    "test_2 = model.predict(test_1)\n",
    "test_3 = model2.predict_drug(X_drug,X_target,test_2)"
   ]
  },
  {
   "cell_type": "markdown",
   "metadata": {},
   "source": [
    "Coming soon: data visualization, feature importances, recommended drugs per target"
   ]
  },
  {
   "cell_type": "code",
   "execution_count": null,
   "metadata": {},
   "outputs": [],
   "source": []
  }
 ],
 "metadata": {
  "hide_input": false,
  "kernelspec": {
   "display_name": "Python 3",
   "language": "python",
   "name": "python3"
  },
  "language_info": {
   "codemirror_mode": {
    "name": "ipython",
    "version": 3
   },
   "file_extension": ".py",
   "mimetype": "text/x-python",
   "name": "python",
   "nbconvert_exporter": "python",
   "pygments_lexer": "ipython3",
   "version": "3.7.9"
  },
  "latex_envs": {
   "LaTeX_envs_menu_present": true,
   "autoclose": false,
   "autocomplete": true,
   "bibliofile": "biblio.bib",
   "cite_by": "apalike",
   "current_citInitial": 1,
   "eqLabelWithNumbers": true,
   "eqNumInitial": 1,
   "hotkeys": {
    "equation": "Ctrl-E",
    "itemize": "Ctrl-I"
   },
   "labels_anchors": false,
   "latex_user_defs": false,
   "report_style_numbering": false,
   "user_envs_cfg": false
  },
  "toc": {
   "base_numbering": 1,
   "nav_menu": {},
   "number_sections": true,
   "sideBar": true,
   "skip_h1_title": false,
   "title_cell": "Table of Contents",
   "title_sidebar": "Contents",
   "toc_cell": false,
   "toc_position": {},
   "toc_section_display": true,
   "toc_window_display": false
  },
  "varInspector": {
   "cols": {
    "lenName": 16,
    "lenType": 16,
    "lenVar": 40
   },
   "kernels_config": {
    "python": {
     "delete_cmd_postfix": "",
     "delete_cmd_prefix": "del ",
     "library": "var_list.py",
     "varRefreshCmd": "print(var_dic_list())"
    },
    "r": {
     "delete_cmd_postfix": ") ",
     "delete_cmd_prefix": "rm(",
     "library": "var_list.r",
     "varRefreshCmd": "cat(var_dic_list()) "
    }
   },
   "types_to_exclude": [
    "module",
    "function",
    "builtin_function_or_method",
    "instance",
    "_Feature"
   ],
   "window_display": false
  }
 },
 "nbformat": 4,
 "nbformat_minor": 4
}
